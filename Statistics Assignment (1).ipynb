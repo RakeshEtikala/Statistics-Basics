{
 "cells": [
  {
   "cell_type": "markdown",
   "id": "e14fdab3-1774-4559-ad87-68ae2c2bacf4",
   "metadata": {},
   "source": [
    "Q1. What is Statistics?"
   ]
  },
  {
   "cell_type": "markdown",
   "id": "577fd669-06fb-4c1e-a5c1-37ce185451a7",
   "metadata": {},
   "source": [
    "Statistics is the science of collecting organizing and analyzing the data."
   ]
  },
  {
   "cell_type": "markdown",
   "id": "abdde5e4-a499-4291-81b7-0fb1c0bc2a80",
   "metadata": {},
   "source": [
    "Q2. Define the different types of statistics and give an example of when each type might be used."
   ]
  },
  {
   "cell_type": "markdown",
   "id": "bb2f3d6b-3db5-44fa-8fe6-80cafbbc71e1",
   "metadata": {},
   "source": [
    "**Descriptive Statistics:- It consists of organizing and summarizing the data.**\n",
    "\n",
    "**Measure of central tendency [Mean, Median,    Mode].**\n",
    "\n",
    "Measure of dispersion [Variance, Standard deviation.]\n",
    "\n",
    "Histograms, Bar charts, pie charts.\n",
    "\n",
    "Eg:- let’s say there are 50 students in Maths class in the uni we have collected the height of every student in the class. [{175cm,165cm,135cm,135cm…..}]\n",
    "\n",
    "From above eg what kind of descriptive questions we can ask:\n",
    "\n",
    "What is the average height of the students in the class? average\n",
    "\n",
    "What is the most common height of the students?\n",
    "\n",
    "135cm\n",
    "\n",
    "**Inferential Stats: - It consists of using data you have measured to form a conclusion.** \n",
    "\n",
    "Z- test\n",
    "\n",
    "T-test\n",
    "\n",
    "Hypothesis testing, P-value, significance\n",
    "\n",
    "Eg :\n",
    "\n",
    "Are the heights of the students in the classroom similar to what you expect in the entire college? Ans - No"
   ]
  },
  {
   "cell_type": "markdown",
   "id": "daef9582-6c9f-4359-9723-7620d5f8437e",
   "metadata": {},
   "source": [
    "Q3. What are the different types of data and how do they differ from each other? Provide an example of\n",
    "each type of data."
   ]
  },
  {
   "cell_type": "markdown",
   "id": "1d717a7e-74e0-464e-865b-514c1540d4fa",
   "metadata": {},
   "source": [
    "**Quantitative Data** - Numerical Data (+, -, *, /)\n",
    "\n",
    "**Continuous:** Weight, Height, Temperature, Speed.\n",
    "\n",
    "It can have (14.5kg, 23.2temp)\n",
    "\n",
    "**Discrete:** Whole Number (Range)\n",
    "\n",
    "E.g.: Number of bank accounts (1,2,3,4)\n",
    "\n",
    "But we will not have 2.5,3.5,1.5 \n",
    "\n",
    "Number of children in a family.\n",
    "\n",
    "But we will not have 2.5,3.5,1.5 \n",
    "\n",
    "**Qualitative Data -** \n",
    "\n",
    "**Nominal:**  In this, we have a fixed set of categories. Gender, Blood Groups, Color. \n",
    "\n",
    "**Ordinal:** We have Ranks (customer review app)\n",
    "\n",
    "Eg:  Good, Bad, Satisfactory."
   ]
  },
  {
   "cell_type": "markdown",
   "id": "626bd4c1-900d-4093-9f20-fccdb3160f78",
   "metadata": {},
   "source": [
    "Q4. Categorise the following datasets with respect to quantitative and qualitative data types:\n",
    "(i) Grading in exam: A+, A, B+, B, C+, C, D, E\n",
    "(ii) Colour of mangoes: yellow, green, orange, red\n",
    "(iii) Height data of a class: [178.9, 179, 179.5, 176, 177.2, 178.3, 175.8,...]\n",
    "(iv) Number of mangoes exported by a farm: [500, 600, 478, 672, ...]"
   ]
  },
  {
   "cell_type": "markdown",
   "id": "86cfa509-fc88-46ad-8fbd-34db7d42aef5",
   "metadata": {},
   "source": [
    "i . Ordinal\n",
    "ii . Nominal\n",
    "iii. Continous\n",
    "iv. Discreate"
   ]
  },
  {
   "cell_type": "markdown",
   "id": "e5021915-7148-48da-a716-d1bbaea41f66",
   "metadata": {},
   "source": [
    "Q5. Explain the concept of levels of measurement and give an example of a variable for each level."
   ]
  },
  {
   "cell_type": "markdown",
   "id": "d89b7e6c-7a3e-4438-bcad-8ff9716e5d0b",
   "metadata": {},
   "source": [
    "**Nominal Scale Data: -** \n",
    "\n",
    "1. Qualitative / Categorical Data\n",
    "2. Eg: Gender, Colors, Labels\n",
    "3. Order doesn’t matter\n",
    "."
   ]
  },
  {
   "cell_type": "markdown",
   "id": "2b54921d-6b9b-4ea8-8aa5-7479bc07d208",
   "metadata": {},
   "source": [
    "**Ordinal Scale Data: -** \n",
    "\n",
    "1. Ranking and order matter\n",
    "2. The difference cannot be measured.\n",
    "3. Eg. qualifications."
   ]
  },
  {
   "cell_type": "markdown",
   "id": "b481fdfd-8724-40d6-8529-04b6e039e693",
   "metadata": {},
   "source": [
    "**Interval Scale Data: -** \n",
    "\n",
    "1. Rank and Order Matters\n",
    "2. Difference can be measured (Excluding ratio)\n",
    "3. It doesn’t have a “0” starting value.\n",
    "4. Eg . Temperature."
   ]
  },
  {
   "cell_type": "markdown",
   "id": "a1595b8b-b602-407c-a1fc-5a3dc736a367",
   "metadata": {},
   "source": [
    "**Ratio Scale Data: -** \n",
    "\n",
    "1. Order and Rank Matters\n",
    "2. Differences and ratios are measurable.\n",
    "3. It does have a “0” starting point.\n",
    "4. Eg. Grades"
   ]
  },
  {
   "cell_type": "markdown",
   "id": "c45b0f66-df44-4ceb-9364-1dfef89bae20",
   "metadata": {},
   "source": [
    "Q6. Why is it important to understand the level of measurement when analyzing data? Provide an\n",
    "example to illustrate your answer."
   ]
  },
  {
   "cell_type": "markdown",
   "id": "13db25d0-8273-4be9-bf9b-71a332ee924d",
   "metadata": {},
   "source": [
    "Q7. How nominal data type is different from ordinal data type.\n"
   ]
  },
  {
   "cell_type": "markdown",
   "id": "8251db7d-77d7-436b-80f4-5b4acb09326c",
   "metadata": {},
   "source": [
    "**Nominal:**  In this, we have a fixed set of categories. Gender, Blood Groups, Color.\n",
    "**Ordinal:** We have Ranks (customer review app)\n",
    "Eg:  Good, Bad, Satisfactory."
   ]
  },
  {
   "cell_type": "markdown",
   "id": "34bf5f0b-24a9-4c8d-b070-56b5eb7b6035",
   "metadata": {},
   "source": [
    "Q8. Which type of plot can be used to display data in terms of range?"
   ]
  },
  {
   "cell_type": "markdown",
   "id": "2f4f2528-8518-4793-ab4c-6634a5e6f5fb",
   "metadata": {},
   "source": [
    "Discrete"
   ]
  },
  {
   "cell_type": "markdown",
   "id": "64312cea-163c-4a12-be4f-ee5aa23d44db",
   "metadata": {},
   "source": [
    "Q9. Describe the difference between descriptive and inferential statistics. Give an example of each\n",
    "type of statistics and explain how they are used."
   ]
  },
  {
   "cell_type": "markdown",
   "id": "c0234229-74d7-48d1-acef-c33760df5730",
   "metadata": {},
   "source": [
    "Descriptive Statistics:- It consists of organizing and summarizing the data.\n",
    "\n",
    "Measure of central tendency [Mean, Median, Mode].\n",
    "\n",
    "Measure of dispersion [Variance, Standard deviation.]\n",
    "\n",
    "Histograms, Bar charts, pie charts.\n",
    "\n",
    "Eg:- let’s say there are 50 students in Maths class in the uni we have collected the height of every student in the class. [{175cm,165cm,135cm,135cm…..}]\n",
    "\n",
    "From above eg what kind of descriptive questions we can ask:\n",
    "\n",
    "What is the average height of the students in the class? average\n",
    "\n",
    "What is the most common height of the students?\n",
    "\n",
    "135cm\n",
    "\n",
    "Inferential Stats: - It consists of using data you have measured to form a conclusion.\n",
    "\n",
    "Z- test\n",
    "\n",
    "T-test\n",
    "\n",
    "Hypothesis testing, P-value, significance\n",
    "\n",
    "Eg :\n",
    "\n",
    "Are the heights of the students in the classroom similar to what you expect in the entire college? Ans - No"
   ]
  },
  {
   "cell_type": "code",
   "execution_count": null,
   "id": "38ef4964-ceb3-465f-af51-1598ae365084",
   "metadata": {},
   "outputs": [],
   "source": []
  }
 ],
 "metadata": {
  "kernelspec": {
   "display_name": "Python 3 (ipykernel)",
   "language": "python",
   "name": "python3"
  },
  "language_info": {
   "codemirror_mode": {
    "name": "ipython",
    "version": 3
   },
   "file_extension": ".py",
   "mimetype": "text/x-python",
   "name": "python",
   "nbconvert_exporter": "python",
   "pygments_lexer": "ipython3",
   "version": "3.10.8"
  }
 },
 "nbformat": 4,
 "nbformat_minor": 5
}
